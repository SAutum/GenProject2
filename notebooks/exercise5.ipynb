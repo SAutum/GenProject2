{
 "cells": [
  {
   "cell_type": "code",
   "id": "initial_id",
   "metadata": {
    "collapsed": true,
    "ExecuteTime": {
     "end_time": "2025-01-10T19:31:31.314498Z",
     "start_time": "2025-01-10T19:31:28.370601Z"
    }
   },
   "source": [
    "import json\n",
    "import os\n",
    "\n",
    "import numpy as np\n",
    "import torch\n",
    "from sklearn.metrics import mean_squared_error\n",
    "from torch.utils.data import DataLoader\n",
    "\n",
    "from data_utils import get_dataset_path, unnormalize\n",
    "from data_utils.BrainDataset import BrainDataset\n",
    "from data_utils.BrainSampler import BrainSampler\n",
    "from gan import GAN\n",
    "\n",
    "from torchmetrics.image.fid import FrechetInceptionDistance\n",
    "\n",
    "from skimage.metrics import *"
   ],
   "outputs": [],
   "execution_count": 1
  },
  {
   "metadata": {
    "ExecuteTime": {
     "end_time": "2025-01-10T19:31:31.746636Z",
     "start_time": "2025-01-10T19:31:31.323100Z"
    }
   },
   "cell_type": "code",
   "source": [
    "device = torch.device(\"cuda\")\n",
    "model_name = \"8006146278150\"\n",
    "model_dict = torch.load(os.path.join(get_dataset_path(), f\"../models\", f\"{model_name}/model.pt\"), weights_only=True)\n",
    "options = json.load(open(os.path.join(get_dataset_path(), \"../models\", f\"{model_name}/options.json\"), \"r\"))\n",
    "model = GAN(options[\"tile_size\"], 3, options[\"latent_dim\"])\n",
    "model.load_state_dict(model_dict)\n",
    "model = model.eval()\n",
    "model = model.to(device)\n",
    "\n",
    "data = BrainDataset([(1947, 97, None), (1947, 160, \"cerebellum\")], options[\"map_type\"], options[\"resolution\"])\n",
    "sampler = BrainSampler(data, tile_size=options[\"tile_size\"], map_type=options[\"map_type\"])\n",
    "loader = DataLoader(data, sampler=sampler, batch_size=1000)\n",
    "data_iter = iter(loader)\n"
   ],
   "id": "52587159c36dbefa",
   "outputs": [],
   "execution_count": 2
  },
  {
   "metadata": {
    "ExecuteTime": {
     "end_time": "2025-01-10T19:31:43.759297Z",
     "start_time": "2025-01-10T19:31:31.969612Z"
    }
   },
   "cell_type": "code",
   "source": [
    "torch.manual_seed(0)\n",
    "fid = FrechetInceptionDistance(feature=64)\n",
    "real_images = next(data_iter)[0].to(device)\n",
    "fake_images = model.sample(1000)\n",
    "for real, fake in zip(real_images, fake_images):\n",
    "    r, f = real.unsqueeze(0), fake.unsqueeze(0)\n",
    "    r = torch.tensor(unnormalize(r.permute(0,2,3,1).cpu(), options[\"map_type\"])).permute(0,3,1,2)\n",
    "    f = torch.tensor(unnormalize(f.permute(0,2,3,1).cpu(), options[\"map_type\"])).permute(0,3,1,2)\n",
    "    fid.update(r, real=True)\n",
    "    fid.update(f, real=False)\n",
    "    del r,f\n",
    "print(fid.compute())\n"
   ],
   "id": "bb8400bb76a38aba",
   "outputs": [
    {
     "name": "stdout",
     "output_type": "stream",
     "text": [
      "tensor(4.1811)\n"
     ]
    }
   ],
   "execution_count": 3
  },
  {
   "metadata": {
    "ExecuteTime": {
     "end_time": "2025-01-10T19:31:43.887506Z",
     "start_time": "2025-01-10T19:31:43.834664Z"
    }
   },
   "cell_type": "code",
   "source": [
    "model_name = \"8180058912588\"\n",
    "device = torch.device(\"cuda\")\n",
    "model_dict = torch.load(os.path.join(get_dataset_path(), f\"../models\", f\"{model_name}/model.pt\"), weights_only=True)\n",
    "options = json.load(open(os.path.join(get_dataset_path(), \"../models\", f\"{model_name}/options.json\"), \"r\"))\n",
    "model = GAN(options[\"tile_size\"], 3, options[\"latent_dim\"], options[\"conditional\"], options[\"condition_dim\"])\n",
    "model.load_state_dict(model_dict)\n",
    "model = model.eval()\n",
    "model = model.to(device)\n",
    "\n",
    "data = BrainDataset(options[\"training_brains\"], options[\"map_type\"], options[\"resolution\"])\n",
    "sampler = BrainSampler(data, tile_size=options[\"tile_size\"], map_type=options[\"map_type\"])\n",
    "loader = DataLoader(data, sampler=sampler, batch_size=1000)\n",
    "data_iter = iter(loader)\n",
    "\n"
   ],
   "id": "41478b53f9ee9945",
   "outputs": [],
   "execution_count": 4
  },
  {
   "metadata": {
    "ExecuteTime": {
     "end_time": "2025-01-10T19:31:46.452465Z",
     "start_time": "2025-01-10T19:31:43.961407Z"
    }
   },
   "cell_type": "code",
   "source": [
    "torch.random.manual_seed(0)\n",
    "trans, fom = next(data_iter)\n",
    "trans = trans.to(device)\n",
    "samples = model.sample(trans.shape[0], trans)\n",
    "mse = []\n",
    "ssim = []\n",
    "psnr = []\n",
    "for real, fake in zip(fom, samples):\n",
    "    r = unnormalize(real.unsqueeze(0).permute(0,2,3,1).cpu(), \"fom\")\n",
    "    f = unnormalize(fake.unsqueeze(0).permute(0,2,3,1).cpu(), \"fom\")\n",
    "    mse.append(mean_squared_error(r, f))\n",
    "    ssim.append(structural_similarity(r[0], f[0], multichannel=True, channel_axis=2))\n",
    "    psnr.append(peak_signal_noise_ratio(r[0], f[0]))\n",
    "print(f\"Mean MSE: {np.mean(mse)} STD MSE: {np.std(mse)}\")\n",
    "print(f\"Mean SSIM: {np.mean(ssim)} STD SSIM: {np.std(ssim)}\")\n",
    "print(f\"Mean PSNR: {np.mean(psnr)} STD PSNR: {np.std(psnr)}\")\n",
    "del samples, trans, fom\n"
   ],
   "id": "b4dda7e3f26c7d0f",
   "outputs": [
    {
     "name": "stdout",
     "output_type": "stream",
     "text": [
      "Mean MSE: 1340.8286918131512 STD MSE: 1903.379041055308\n",
      "Mean SSIM: 0.44578721369522356 STD SSIM: 0.3520543266763236\n",
      "Mean PSNR: 27.68133953737192 STD PSNR: 14.951478892899537\n"
     ]
    }
   ],
   "execution_count": 5
  }
 ],
 "metadata": {
  "kernelspec": {
   "display_name": "Python 3",
   "language": "python",
   "name": "python3"
  },
  "language_info": {
   "codemirror_mode": {
    "name": "ipython",
    "version": 2
   },
   "file_extension": ".py",
   "mimetype": "text/x-python",
   "name": "python",
   "nbconvert_exporter": "python",
   "pygments_lexer": "ipython2",
   "version": "2.7.6"
  }
 },
 "nbformat": 4,
 "nbformat_minor": 5
}
